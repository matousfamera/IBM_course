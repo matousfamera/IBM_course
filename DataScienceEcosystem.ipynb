{
 "cells": [
  {
   "cell_type": "markdown",
   "id": "aaf230a8-c1fd-4531-8b4d-f33a2086c6a1",
   "metadata": {},
   "source": [
    "# Data Science Tools And Ecosystem"
   ]
  },
  {
   "cell_type": "markdown",
   "id": "6f570beb-b71d-445c-84bc-2bea82de48c0",
   "metadata": {},
   "source": [
    "In this notebook, Data Science Tools and Ecosystem are summarized."
   ]
  },
  {
   "cell_type": "markdown",
   "id": "eea3cdfd-45e0-4829-af9e-75fb10b87604",
   "metadata": {},
   "source": [
    "Some of the popular languages that Data Scientists use are:"
   ]
  },
  {
   "cell_type": "markdown",
   "id": "21a8da9d-14c0-412d-b3e0-b49b9a005393",
   "metadata": {},
   "source": [
    "1. Python\n",
    "2. R\n",
    "3. Julia"
   ]
  },
  {
   "cell_type": "markdown",
   "id": "07be2a63-9632-4c4a-ac22-e10cbcdf3641",
   "metadata": {
    "tags": []
   },
   "source": [
    "Some of the commonly used libraries used by Data Scientists include:\n",
    "1. scikit-learn\n",
    "2. pandas\n",
    "3. numpy"
   ]
  },
  {
   "cell_type": "markdown",
   "id": "bbe76333-3835-41ca-a155-f8f85a0ea145",
   "metadata": {},
   "source": [
    "| Data Science Tool |\n",
    "| --- |\n",
    "| Visual Studio Code |\n",
    "| JupyterLab |\n",
    "| RStudio |"
   ]
  },
  {
   "cell_type": "markdown",
   "id": "5f9d0b67-b4fb-4a85-989d-6a242d266c37",
   "metadata": {
    "tags": []
   },
   "source": [
    "### Below are a few examples of evaluating arithmetic expressions in Python\n"
   ]
  },
  {
   "cell_type": "code",
   "execution_count": 4,
   "id": "c7f1e577-87e2-4cd7-9848-ef5539200661",
   "metadata": {
    "tags": []
   },
   "outputs": [
    {
     "data": {
      "text/plain": [
       "17"
      ]
     },
     "execution_count": 4,
     "metadata": {},
     "output_type": "execute_result"
    }
   ],
   "source": [
    "# This a simple arithmetic expression to mutiply then add integers\n",
    "(3*4)+5"
   ]
  },
  {
   "cell_type": "code",
   "execution_count": 5,
   "id": "7cbfca8d-1c30-400a-89ea-a1bf0d953ec9",
   "metadata": {
    "tags": []
   },
   "outputs": [
    {
     "data": {
      "text/plain": [
       "3.3333333333333335"
      ]
     },
     "execution_count": 5,
     "metadata": {},
     "output_type": "execute_result"
    }
   ],
   "source": [
    "# This will convert 200 minutes to hours by dividing by 60\n",
    "200/60"
   ]
  },
  {
   "cell_type": "markdown",
   "id": "1f3a71f5-0d2c-418a-9f1c-d9d8b56caa0e",
   "metadata": {},
   "source": [
    "**Objectives:**"
   ]
  },
  {
   "cell_type": "markdown",
   "id": "9750bdf7-d61f-4cb4-81c3-666bdd6b5ef7",
   "metadata": {},
   "source": [
    "- List popular languages of Data Science\n",
    "- List popular tools for Data Science\n",
    "- Show basic arithmetic functions"
   ]
  },
  {
   "cell_type": "markdown",
   "id": "96ffb7df-c9e4-4238-8417-cd66684f37df",
   "metadata": {},
   "source": [
    "## Author:\n",
    "Matous Famera"
   ]
  },
  {
   "cell_type": "code",
   "execution_count": null,
   "id": "442cb16c-9e1e-4459-a465-1123dd11ae17",
   "metadata": {},
   "outputs": [],
   "source": []
  }
 ],
 "metadata": {
  "kernelspec": {
   "display_name": "Python",
   "language": "python",
   "name": "conda-env-python-py"
  },
  "language_info": {
   "codemirror_mode": {
    "name": "ipython",
    "version": 3
   },
   "file_extension": ".py",
   "mimetype": "text/x-python",
   "name": "python",
   "nbconvert_exporter": "python",
   "pygments_lexer": "ipython3",
   "version": "3.7.12"
  }
 },
 "nbformat": 4,
 "nbformat_minor": 5
}
